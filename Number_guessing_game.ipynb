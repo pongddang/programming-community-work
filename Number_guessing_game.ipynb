# 숫자 맞추기 게임

import tkinter as tk
import random

def check_guess():
    user_guess = int(guess_entry.get())
    if user_guess < number:
        result_label.config(text="좀 더 큰 숫자를 입력하세요.")
    elif user_guess > number:
        result_label.config(text="좀 더 작은 숫자를 입력하세요.")
    else:
        result_label.config(text=f"축하합니다! 숫자를 맞췄습니다. 정답은 {number}이었습니다.")

def start_game():
    global number
    number = random.randint(1, 20)
    result_label.config(text="")
    guess_entry.delete(0, 'end')

# Tkinter 창 생성
root = tk.Tk()
root.title("숫자 맞추기 게임")
root.geometry("300x400")

# 숫자 입력 위젯과 버튼
guess_entry = tk.Entry(root)  # Create Entry widget for user input
guess_entry.place(x=100, y=50, width=100)  # Adjust its position in the window

guess_button = tk.Button(root, text="추측", command=check_guess)
guess_button.place(x=100, y=100, width=100, height=50)

result_label = tk.Label(root, text="")
result_label.place(x=100, y=150)

start_button = tk.Button(root, text="게임 시작", command=start_game)
start_button.place(x=100, y=250, width=100, height=50)

# 창 열기
root.mainloop()
